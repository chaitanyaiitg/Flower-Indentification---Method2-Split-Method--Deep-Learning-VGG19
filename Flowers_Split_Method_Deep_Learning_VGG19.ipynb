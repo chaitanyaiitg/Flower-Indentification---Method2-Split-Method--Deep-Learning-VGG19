{
  "nbformat": 4,
  "nbformat_minor": 0,
  "metadata": {
    "colab": {
      "name": " Flowers - Split Method_Deep Learning -VGG19.ipynb",
      "provenance": [],
      "collapsed_sections": []
    },
    "kernelspec": {
      "name": "python3",
      "display_name": "Python 3"
    },
    "accelerator": "GPU"
  },
  "cells": [
    {
      "cell_type": "code",
      "metadata": {
        "id": "aoFGHXWzlbD6",
        "colab_type": "code",
        "colab": {
          "base_uri": "https://localhost:8080/",
          "height": 102
        },
        "outputId": "e979fdd6-407d-40bd-9cb1-2f849ddb6ea4"
      },
      "source": [
        "! pip install pandas"
      ],
      "execution_count": 3,
      "outputs": [
        {
          "output_type": "stream",
          "text": [
            "Requirement already satisfied: pandas in /usr/local/lib/python3.6/dist-packages (1.0.5)\n",
            "Requirement already satisfied: numpy>=1.13.3 in /usr/local/lib/python3.6/dist-packages (from pandas) (1.18.5)\n",
            "Requirement already satisfied: pytz>=2017.2 in /usr/local/lib/python3.6/dist-packages (from pandas) (2018.9)\n",
            "Requirement already satisfied: python-dateutil>=2.6.1 in /usr/local/lib/python3.6/dist-packages (from pandas) (2.8.1)\n",
            "Requirement already satisfied: six>=1.5 in /usr/local/lib/python3.6/dist-packages (from python-dateutil>=2.6.1->pandas) (1.15.0)\n"
          ],
          "name": "stdout"
        }
      ]
    },
    {
      "cell_type": "code",
      "metadata": {
        "id": "pAGG6tmdVljX",
        "colab_type": "code",
        "colab": {
          "base_uri": "https://localhost:8080/",
          "height": 666
        },
        "outputId": "655570ad-ef39-4aab-dc7b-0dbd3f8f0c96"
      },
      "source": [
        "! pip install tensorflow-gpu"
      ],
      "execution_count": 4,
      "outputs": [
        {
          "output_type": "stream",
          "text": [
            "Requirement already satisfied: tensorflow-gpu in /usr/local/lib/python3.6/dist-packages (2.3.0)\n",
            "Requirement already satisfied: six>=1.12.0 in /usr/local/lib/python3.6/dist-packages (from tensorflow-gpu) (1.15.0)\n",
            "Requirement already satisfied: google-pasta>=0.1.8 in /usr/local/lib/python3.6/dist-packages (from tensorflow-gpu) (0.2.0)\n",
            "Requirement already satisfied: numpy<1.19.0,>=1.16.0 in /usr/local/lib/python3.6/dist-packages (from tensorflow-gpu) (1.18.5)\n",
            "Requirement already satisfied: protobuf>=3.9.2 in /usr/local/lib/python3.6/dist-packages (from tensorflow-gpu) (3.12.4)\n",
            "Requirement already satisfied: scipy==1.4.1 in /usr/local/lib/python3.6/dist-packages (from tensorflow-gpu) (1.4.1)\n",
            "Requirement already satisfied: gast==0.3.3 in /usr/local/lib/python3.6/dist-packages (from tensorflow-gpu) (0.3.3)\n",
            "Requirement already satisfied: grpcio>=1.8.6 in /usr/local/lib/python3.6/dist-packages (from tensorflow-gpu) (1.31.0)\n",
            "Requirement already satisfied: wheel>=0.26 in /usr/local/lib/python3.6/dist-packages (from tensorflow-gpu) (0.35.1)\n",
            "Requirement already satisfied: termcolor>=1.1.0 in /usr/local/lib/python3.6/dist-packages (from tensorflow-gpu) (1.1.0)\n",
            "Requirement already satisfied: absl-py>=0.7.0 in /usr/local/lib/python3.6/dist-packages (from tensorflow-gpu) (0.8.1)\n",
            "Requirement already satisfied: tensorboard<3,>=2.3.0 in /usr/local/lib/python3.6/dist-packages (from tensorflow-gpu) (2.3.0)\n",
            "Requirement already satisfied: astunparse==1.6.3 in /usr/local/lib/python3.6/dist-packages (from tensorflow-gpu) (1.6.3)\n",
            "Requirement already satisfied: opt-einsum>=2.3.2 in /usr/local/lib/python3.6/dist-packages (from tensorflow-gpu) (3.3.0)\n",
            "Requirement already satisfied: keras-preprocessing<1.2,>=1.1.1 in /usr/local/lib/python3.6/dist-packages (from tensorflow-gpu) (1.1.2)\n",
            "Requirement already satisfied: tensorflow-estimator<2.4.0,>=2.3.0 in /usr/local/lib/python3.6/dist-packages (from tensorflow-gpu) (2.3.0)\n",
            "Requirement already satisfied: h5py<2.11.0,>=2.10.0 in /usr/local/lib/python3.6/dist-packages (from tensorflow-gpu) (2.10.0)\n",
            "Requirement already satisfied: wrapt>=1.11.1 in /usr/local/lib/python3.6/dist-packages (from tensorflow-gpu) (1.12.1)\n",
            "Requirement already satisfied: setuptools in /usr/local/lib/python3.6/dist-packages (from protobuf>=3.9.2->tensorflow-gpu) (49.6.0)\n",
            "Requirement already satisfied: tensorboard-plugin-wit>=1.6.0 in /usr/local/lib/python3.6/dist-packages (from tensorboard<3,>=2.3.0->tensorflow-gpu) (1.7.0)\n",
            "Requirement already satisfied: google-auth<2,>=1.6.3 in /usr/local/lib/python3.6/dist-packages (from tensorboard<3,>=2.3.0->tensorflow-gpu) (1.17.2)\n",
            "Requirement already satisfied: werkzeug>=0.11.15 in /usr/local/lib/python3.6/dist-packages (from tensorboard<3,>=2.3.0->tensorflow-gpu) (1.0.1)\n",
            "Requirement already satisfied: markdown>=2.6.8 in /usr/local/lib/python3.6/dist-packages (from tensorboard<3,>=2.3.0->tensorflow-gpu) (3.2.2)\n",
            "Requirement already satisfied: google-auth-oauthlib<0.5,>=0.4.1 in /usr/local/lib/python3.6/dist-packages (from tensorboard<3,>=2.3.0->tensorflow-gpu) (0.4.1)\n",
            "Requirement already satisfied: requests<3,>=2.21.0 in /usr/local/lib/python3.6/dist-packages (from tensorboard<3,>=2.3.0->tensorflow-gpu) (2.23.0)\n",
            "Requirement already satisfied: pyasn1-modules>=0.2.1 in /usr/local/lib/python3.6/dist-packages (from google-auth<2,>=1.6.3->tensorboard<3,>=2.3.0->tensorflow-gpu) (0.2.8)\n",
            "Requirement already satisfied: rsa<5,>=3.1.4; python_version >= \"3\" in /usr/local/lib/python3.6/dist-packages (from google-auth<2,>=1.6.3->tensorboard<3,>=2.3.0->tensorflow-gpu) (4.6)\n",
            "Requirement already satisfied: cachetools<5.0,>=2.0.0 in /usr/local/lib/python3.6/dist-packages (from google-auth<2,>=1.6.3->tensorboard<3,>=2.3.0->tensorflow-gpu) (4.1.1)\n",
            "Requirement already satisfied: importlib-metadata; python_version < \"3.8\" in /usr/local/lib/python3.6/dist-packages (from markdown>=2.6.8->tensorboard<3,>=2.3.0->tensorflow-gpu) (1.7.0)\n",
            "Requirement already satisfied: requests-oauthlib>=0.7.0 in /usr/local/lib/python3.6/dist-packages (from google-auth-oauthlib<0.5,>=0.4.1->tensorboard<3,>=2.3.0->tensorflow-gpu) (1.3.0)\n",
            "Requirement already satisfied: chardet<4,>=3.0.2 in /usr/local/lib/python3.6/dist-packages (from requests<3,>=2.21.0->tensorboard<3,>=2.3.0->tensorflow-gpu) (3.0.4)\n",
            "Requirement already satisfied: idna<3,>=2.5 in /usr/local/lib/python3.6/dist-packages (from requests<3,>=2.21.0->tensorboard<3,>=2.3.0->tensorflow-gpu) (2.10)\n",
            "Requirement already satisfied: certifi>=2017.4.17 in /usr/local/lib/python3.6/dist-packages (from requests<3,>=2.21.0->tensorboard<3,>=2.3.0->tensorflow-gpu) (2020.6.20)\n",
            "Requirement already satisfied: urllib3!=1.25.0,!=1.25.1,<1.26,>=1.21.1 in /usr/local/lib/python3.6/dist-packages (from requests<3,>=2.21.0->tensorboard<3,>=2.3.0->tensorflow-gpu) (1.24.3)\n",
            "Requirement already satisfied: pyasn1<0.5.0,>=0.4.6 in /usr/local/lib/python3.6/dist-packages (from pyasn1-modules>=0.2.1->google-auth<2,>=1.6.3->tensorboard<3,>=2.3.0->tensorflow-gpu) (0.4.8)\n",
            "Requirement already satisfied: zipp>=0.5 in /usr/local/lib/python3.6/dist-packages (from importlib-metadata; python_version < \"3.8\"->markdown>=2.6.8->tensorboard<3,>=2.3.0->tensorflow-gpu) (3.1.0)\n",
            "Requirement already satisfied: oauthlib>=3.0.0 in /usr/local/lib/python3.6/dist-packages (from requests-oauthlib>=0.7.0->google-auth-oauthlib<0.5,>=0.4.1->tensorboard<3,>=2.3.0->tensorflow-gpu) (3.1.0)\n"
          ],
          "name": "stdout"
        }
      ]
    },
    {
      "cell_type": "code",
      "metadata": {
        "id": "glBoKVQmVqkj",
        "colab_type": "code",
        "colab": {
          "base_uri": "https://localhost:8080/",
          "height": 119
        },
        "outputId": "3031c1e6-cbbd-4a2a-cd0c-13bc4240bcb3"
      },
      "source": [
        "!pip install keras"
      ],
      "execution_count": 5,
      "outputs": [
        {
          "output_type": "stream",
          "text": [
            "Requirement already satisfied: keras in /usr/local/lib/python3.6/dist-packages (2.4.3)\n",
            "Requirement already satisfied: pyyaml in /usr/local/lib/python3.6/dist-packages (from keras) (3.13)\n",
            "Requirement already satisfied: scipy>=0.14 in /usr/local/lib/python3.6/dist-packages (from keras) (1.4.1)\n",
            "Requirement already satisfied: numpy>=1.9.1 in /usr/local/lib/python3.6/dist-packages (from keras) (1.18.5)\n",
            "Requirement already satisfied: h5py in /usr/local/lib/python3.6/dist-packages (from keras) (2.10.0)\n",
            "Requirement already satisfied: six in /usr/local/lib/python3.6/dist-packages (from h5py->keras) (1.15.0)\n"
          ],
          "name": "stdout"
        }
      ]
    },
    {
      "cell_type": "code",
      "metadata": {
        "id": "s6aVyGnP1qz_",
        "colab_type": "code",
        "colab": {
          "base_uri": "https://localhost:8080/",
          "height": 68
        },
        "outputId": "e9805cc7-ed92-4080-df90-daff2ebab275"
      },
      "source": [
        "import matplotlib.pylab as plt\n",
        "import numpy as np\n",
        "import tensorflow_hub as hub\n",
        "import tensorflow as tf\n",
        "print(\"TF version:\", tf.__version__)\n",
        "print(\"Hub version:\", hub.__version__)\n",
        "print(\"GPU is\", \"available\" if tf.test.is_gpu_available() else \"NOT AVAILABLE\")"
      ],
      "execution_count": 7,
      "outputs": [
        {
          "output_type": "stream",
          "text": [
            "TF version: 2.3.0\n",
            "Hub version: 0.9.0\n",
            "GPU is available\n"
          ],
          "name": "stdout"
        }
      ]
    },
    {
      "cell_type": "code",
      "metadata": {
        "id": "QlEmywnUVcAG",
        "colab_type": "code",
        "colab": {}
      },
      "source": [
        "from tensorflow.keras.layers import Input, Lambda, Dense, Flatten\n",
        "from tensorflow.keras.models import Model\n",
        "from tensorflow.keras.applications.resnet50 import ResNet50\n",
        "#from tensorflow.keras.applications.resnet152V2 import ResNet152V2\n",
        "from tensorflow.keras.applications.vgg19 import VGG19\n",
        "from tensorflow.keras.applications.vgg19 import preprocess_input\n",
        "from tensorflow.keras.preprocessing import image\n",
        "from tensorflow.keras.preprocessing.image import ImageDataGenerator,load_img\n",
        "from tensorflow.keras.models import Sequential\n",
        "from glob import glob\n",
        "#from keras.applications.inception_v3 import InceptionV3\n",
        "#from keras.applications.inception_v3 import preprocess_input, decode_predictions"
      ],
      "execution_count": 8,
      "outputs": []
    },
    {
      "cell_type": "code",
      "metadata": {
        "id": "D_q-cWiWSn9t",
        "colab_type": "code",
        "colab": {}
      },
      "source": [
        "from sklearn.utils import shuffle\n",
        "from sklearn.metrics import classification_report\n",
        "from sklearn.model_selection import train_test_split\n",
        "from sklearn.metrics import confusion_matrix,roc_curve,auc,accuracy_score\n",
        "import os\n",
        "import cv2"
      ],
      "execution_count": 9,
      "outputs": []
    },
    {
      "cell_type": "code",
      "metadata": {
        "id": "nc01YyZBTs98",
        "colab_type": "code",
        "colab": {
          "base_uri": "https://localhost:8080/",
          "height": 34
        },
        "outputId": "c3edeafe-48ea-40ec-eabe-d17175d79685"
      },
      "source": [
        "from google.colab import drive\n",
        "drive.mount('/content/drive')"
      ],
      "execution_count": 10,
      "outputs": [
        {
          "output_type": "stream",
          "text": [
            "Drive already mounted at /content/drive; to attempt to forcibly remount, call drive.mount(\"/content/drive\", force_remount=True).\n"
          ],
          "name": "stdout"
        }
      ]
    },
    {
      "cell_type": "code",
      "metadata": {
        "id": "_9ve70jKDhLo",
        "colab_type": "code",
        "colab": {}
      },
      "source": [
        ""
      ],
      "execution_count": 10,
      "outputs": []
    },
    {
      "cell_type": "code",
      "metadata": {
        "id": "NtK50ans7vPD",
        "colab_type": "code",
        "colab": {
          "base_uri": "https://localhost:8080/",
          "height": 34
        },
        "outputId": "32d9c294-c00f-4b48-88fe-6303606a7a07"
      },
      "source": [
        "X = []\n",
        "y = []\n",
        "IMG_SIZE = 224\n",
        "DIR = \"/content/drive/My Drive/Colab Notebooks/Flowers/\"\n",
        "folders1 = os.listdir(DIR)\n",
        "folders1"
      ],
      "execution_count": 62,
      "outputs": [
        {
          "output_type": "execute_result",
          "data": {
            "text/plain": [
              "['sunflower', 'daisy', 'rose', 'tulip', 'dandelion']"
            ]
          },
          "metadata": {
            "tags": []
          },
          "execution_count": 62
        }
      ]
    },
    {
      "cell_type": "code",
      "metadata": {
        "id": "Beo2nbYBDm0j",
        "colab_type": "code",
        "colab": {
          "base_uri": "https://localhost:8080/",
          "height": 272
        },
        "outputId": "3faab42b-cc2a-4168-83a2-25bb77151bc1"
      },
      "source": [
        "for i, file in enumerate(folders):\n",
        "    filename = os.path.join(DIR, file)\n",
        "    print(\"Folder {} started\".format(file))\n",
        "    try:\n",
        "        for img in os.listdir(filename):\n",
        "            path = os.path.join(filename, img)\n",
        "            img = cv2.imread(path,cv2.IMREAD_COLOR)\n",
        "            img = cv2.resize(img, (IMG_SIZE,IMG_SIZE))\n",
        "\n",
        "            X.append(np.array(img))\n",
        "            y.append(i)\n",
        "    except:\n",
        "        print(\"File {} not read\".format(path))\n",
        "        \n",
        "    print(\"Folder {} done\".format(file))\n",
        "    print(\"The folder {} is labeled as {}\".format(file, i))"
      ],
      "execution_count": 12,
      "outputs": [
        {
          "output_type": "stream",
          "text": [
            "Folder sunflower started\n",
            "Folder sunflower done\n",
            "The folder sunflower is labeled as 0\n",
            "Folder daisy started\n",
            "Folder daisy done\n",
            "The folder daisy is labeled as 1\n",
            "Folder rose started\n",
            "Folder rose done\n",
            "The folder rose is labeled as 2\n",
            "Folder tulip started\n",
            "Folder tulip done\n",
            "The folder tulip is labeled as 3\n",
            "Folder dandelion started\n",
            "Folder dandelion done\n",
            "The folder dandelion is labeled as 4\n"
          ],
          "name": "stdout"
        }
      ]
    },
    {
      "cell_type": "code",
      "metadata": {
        "id": "fojJD58GDm4D",
        "colab_type": "code",
        "colab": {
          "base_uri": "https://localhost:8080/",
          "height": 51
        },
        "outputId": "e878029d-f876-480c-a7f8-396bab3f0bd2"
      },
      "source": [
        "X = np.array(X)\n",
        "y = np.array(y)\n",
        "\n",
        "print(\"X shape is {}\".format(X.shape))\n",
        "print(\"y shape is {}\".format(y.shape))"
      ],
      "execution_count": 13,
      "outputs": [
        {
          "output_type": "stream",
          "text": [
            "X shape is (4323, 224, 224, 3)\n",
            "y shape is (4323,)\n"
          ],
          "name": "stdout"
        }
      ]
    },
    {
      "cell_type": "code",
      "metadata": {
        "id": "FlNAKBQ_DwlJ",
        "colab_type": "code",
        "colab": {
          "base_uri": "https://localhost:8080/",
          "height": 51
        },
        "outputId": "a8518782-ef4f-4f75-e9d7-70388fa30a34"
      },
      "source": [
        "from tensorflow.keras.utils import to_categorical\n",
        "\n",
        "print(\"Before the categorical the shape of y is {}\".format(y.shape))\n",
        "y = to_categorical(y)\n",
        "print(\"After the categorical the shape of y is {}\".format(y.shape))"
      ],
      "execution_count": 14,
      "outputs": [
        {
          "output_type": "stream",
          "text": [
            "Before the categorical the shape of y is (4323,)\n",
            "After the categorical the shape of y is (4323, 5)\n"
          ],
          "name": "stdout"
        }
      ]
    },
    {
      "cell_type": "code",
      "metadata": {
        "id": "aqCxV3NEDwyE",
        "colab_type": "code",
        "colab": {
          "base_uri": "https://localhost:8080/",
          "height": 51
        },
        "outputId": "c86e9d25-0574-453b-d68e-e32da0f158da"
      },
      "source": [
        "from sklearn.model_selection import train_test_split\n",
        "\n",
        "X_train, X_test, y_train, y_test = train_test_split(X, y, test_size=0.2, random_state=45)\n",
        "\n",
        "print(\"There are {} training examples\".format(X_train.shape[0]))\n",
        "print(\"There are {} test examples\".format(X_test.shape[0]))"
      ],
      "execution_count": 15,
      "outputs": [
        {
          "output_type": "stream",
          "text": [
            "There are 3458 training examples\n",
            "There are 865 test examples\n"
          ],
          "name": "stdout"
        }
      ]
    },
    {
      "cell_type": "code",
      "metadata": {
        "id": "as_6s0CSDw5B",
        "colab_type": "code",
        "colab": {}
      },
      "source": [
        "training_datagen = ImageDataGenerator(\n",
        "      rescale = 1./255,\n",
        "      rotation_range=40,\n",
        "      width_shift_range=0.2,\n",
        "      height_shift_range=0.2,\n",
        "      shear_range=0.2,\n",
        "      zoom_range=0.2,\n",
        "      horizontal_flip=True,\n",
        "      fill_mode='nearest')\n",
        "\n",
        "\n",
        "validation_datagen = ImageDataGenerator(\n",
        "      rescale = 1./255)\n"
      ],
      "execution_count": 16,
      "outputs": []
    },
    {
      "cell_type": "code",
      "metadata": {
        "id": "C1kNX4lfLtVD",
        "colab_type": "code",
        "colab": {}
      },
      "source": [
        "training_set=training_datagen.flow(X_train,y_train)\n",
        "test_set=validation_datagen.flow(X_test,y_test)"
      ],
      "execution_count": 17,
      "outputs": []
    },
    {
      "cell_type": "code",
      "metadata": {
        "id": "bSp08S5jLtjZ",
        "colab_type": "code",
        "colab": {}
      },
      "source": [
        "#CNN"
      ],
      "execution_count": 18,
      "outputs": []
    },
    {
      "cell_type": "code",
      "metadata": {
        "id": "an0LvXr6Sb8A",
        "colab_type": "code",
        "colab": {}
      },
      "source": [
        "model1 = tf.keras.models.Sequential([\n",
        "    # Note the input shape is the desired size of the image 150x150 with 3 bytes color\n",
        "    # This is the first convolution\n",
        "    tf.keras.layers.Conv2D(64, (3,3), activation='relu', input_shape=(150, 150, 3)),\n",
        "    tf.keras.layers.MaxPooling2D(2, 2),\n",
        "    # The second convolution\n",
        "    tf.keras.layers.Conv2D(64, (3,3), activation='relu'),\n",
        "    tf.keras.layers.MaxPooling2D(2,2),\n",
        "    # The third convolution\n",
        "    tf.keras.layers.Conv2D(128, (3,3), activation='relu'),\n",
        "    tf.keras.layers.MaxPooling2D(2,2),\n",
        "    # The fourth convolution\n",
        "    tf.keras.layers.Conv2D(128, (3,3), activation='relu'),\n",
        "    tf.keras.layers.MaxPooling2D(2,2),\n",
        "    # Flatten the results to feed into a DNN\n",
        "    tf.keras.layers.Flatten(),\n",
        "    tf.keras.layers.Dropout(0.5),\n",
        "    # 512 neuron hidden layer\n",
        "    tf.keras.layers.Dense(512, activation='relu'),\n",
        "    tf.keras.layers.Dense(5, activation='softmax')\n",
        "])\n",
        "\n",
        "model.summary()\n",
        "\n",
        "model.compile(loss = 'categorical_crossentropy', optimizer='rmsprop', metrics=['accuracy'])"
      ],
      "execution_count": null,
      "outputs": []
    },
    {
      "cell_type": "code",
      "metadata": {
        "id": "wOXo4OLRNHC_",
        "colab_type": "code",
        "colab": {}
      },
      "source": [
        "# Import the VGG19 library as shown below and add preprocessing layer to the front of VGG19\",\n",
        "# Here we will be using imagenet weights\\n\"\n",
        "IMAGE_SIZE=[224,224]\n",
        "vgg= VGG19(input_shape=IMAGE_SIZE + [3], weights='imagenet', include_top=False)"
      ],
      "execution_count": 20,
      "outputs": []
    },
    {
      "cell_type": "code",
      "metadata": {
        "id": "cJm24uToNHOK",
        "colab_type": "code",
        "colab": {}
      },
      "source": [
        "# don't train existing weights\\n\",\n",
        "for layer in vgg.layers:\n",
        "    layer.trainable = False"
      ],
      "execution_count": 21,
      "outputs": []
    },
    {
      "cell_type": "code",
      "metadata": {
        "id": "oI-XfpeONqwN",
        "colab_type": "code",
        "colab": {
          "base_uri": "https://localhost:8080/",
          "height": 34
        },
        "outputId": "20f39e56-0121-41aa-8b82-e8afe3abed46"
      },
      "source": [
        "# useful for getting number of output classes\n",
        "folders = glob('/content/drive/My Drive/Colab Notebooks/Flowers/*')\n",
        "len(folders)"
      ],
      "execution_count": 22,
      "outputs": [
        {
          "output_type": "execute_result",
          "data": {
            "text/plain": [
              "5"
            ]
          },
          "metadata": {
            "tags": []
          },
          "execution_count": 22
        }
      ]
    },
    {
      "cell_type": "code",
      "metadata": {
        "id": "vwOc2wxVNHRj",
        "colab_type": "code",
        "colab": {}
      },
      "source": [
        "# our layers - you can add more if you want\n",
        "x = Flatten()(vgg.output)"
      ],
      "execution_count": 23,
      "outputs": []
    },
    {
      "cell_type": "code",
      "metadata": {
        "id": "iS7ki0WhNHXo",
        "colab_type": "code",
        "colab": {}
      },
      "source": [
        "prediction=Dense(len(folders), activation='softmax')(x)"
      ],
      "execution_count": 24,
      "outputs": []
    },
    {
      "cell_type": "code",
      "metadata": {
        "id": "Wswi8jLmQqkI",
        "colab_type": "code",
        "colab": {}
      },
      "source": [
        "model = Model(inputs=vgg.input, outputs=prediction)"
      ],
      "execution_count": 26,
      "outputs": []
    },
    {
      "cell_type": "code",
      "metadata": {
        "id": "s8CiK-c9NHeP",
        "colab_type": "code",
        "colab": {
          "base_uri": "https://localhost:8080/",
          "height": 969
        },
        "outputId": "55602be7-4412-4286-dc29-1995a550da7d"
      },
      "source": [
        "# view the structure of the model\n",
        "model.summary()"
      ],
      "execution_count": 27,
      "outputs": [
        {
          "output_type": "stream",
          "text": [
            "Model: \"functional_1\"\n",
            "_________________________________________________________________\n",
            "Layer (type)                 Output Shape              Param #   \n",
            "=================================================================\n",
            "input_1 (InputLayer)         [(None, 224, 224, 3)]     0         \n",
            "_________________________________________________________________\n",
            "block1_conv1 (Conv2D)        (None, 224, 224, 64)      1792      \n",
            "_________________________________________________________________\n",
            "block1_conv2 (Conv2D)        (None, 224, 224, 64)      36928     \n",
            "_________________________________________________________________\n",
            "block1_pool (MaxPooling2D)   (None, 112, 112, 64)      0         \n",
            "_________________________________________________________________\n",
            "block2_conv1 (Conv2D)        (None, 112, 112, 128)     73856     \n",
            "_________________________________________________________________\n",
            "block2_conv2 (Conv2D)        (None, 112, 112, 128)     147584    \n",
            "_________________________________________________________________\n",
            "block2_pool (MaxPooling2D)   (None, 56, 56, 128)       0         \n",
            "_________________________________________________________________\n",
            "block3_conv1 (Conv2D)        (None, 56, 56, 256)       295168    \n",
            "_________________________________________________________________\n",
            "block3_conv2 (Conv2D)        (None, 56, 56, 256)       590080    \n",
            "_________________________________________________________________\n",
            "block3_conv3 (Conv2D)        (None, 56, 56, 256)       590080    \n",
            "_________________________________________________________________\n",
            "block3_conv4 (Conv2D)        (None, 56, 56, 256)       590080    \n",
            "_________________________________________________________________\n",
            "block3_pool (MaxPooling2D)   (None, 28, 28, 256)       0         \n",
            "_________________________________________________________________\n",
            "block4_conv1 (Conv2D)        (None, 28, 28, 512)       1180160   \n",
            "_________________________________________________________________\n",
            "block4_conv2 (Conv2D)        (None, 28, 28, 512)       2359808   \n",
            "_________________________________________________________________\n",
            "block4_conv3 (Conv2D)        (None, 28, 28, 512)       2359808   \n",
            "_________________________________________________________________\n",
            "block4_conv4 (Conv2D)        (None, 28, 28, 512)       2359808   \n",
            "_________________________________________________________________\n",
            "block4_pool (MaxPooling2D)   (None, 14, 14, 512)       0         \n",
            "_________________________________________________________________\n",
            "block5_conv1 (Conv2D)        (None, 14, 14, 512)       2359808   \n",
            "_________________________________________________________________\n",
            "block5_conv2 (Conv2D)        (None, 14, 14, 512)       2359808   \n",
            "_________________________________________________________________\n",
            "block5_conv3 (Conv2D)        (None, 14, 14, 512)       2359808   \n",
            "_________________________________________________________________\n",
            "block5_conv4 (Conv2D)        (None, 14, 14, 512)       2359808   \n",
            "_________________________________________________________________\n",
            "block5_pool (MaxPooling2D)   (None, 7, 7, 512)         0         \n",
            "_________________________________________________________________\n",
            "flatten_1 (Flatten)          (None, 25088)             0         \n",
            "_________________________________________________________________\n",
            "dense_2 (Dense)              (None, 5)                 125445    \n",
            "=================================================================\n",
            "Total params: 20,149,829\n",
            "Trainable params: 125,445\n",
            "Non-trainable params: 20,024,384\n",
            "_________________________________________________________________\n"
          ],
          "name": "stdout"
        }
      ]
    },
    {
      "cell_type": "code",
      "metadata": {
        "id": "h01NhdlCNHhu",
        "colab_type": "code",
        "colab": {}
      },
      "source": [
        "model.compile(\n",
        "  loss='categorical_crossentropy',\n",
        "  optimizer='adam',\n",
        "  metrics=['accuracy']\n",
        ")"
      ],
      "execution_count": 28,
      "outputs": []
    },
    {
      "cell_type": "code",
      "metadata": {
        "id": "UgUgYgjoDwws",
        "colab_type": "code",
        "colab": {
          "base_uri": "https://localhost:8080/",
          "height": 938
        },
        "outputId": "56e487b9-de65-4927-d2a4-f592fdbb3e23"
      },
      "source": [
        "batch_size=32\n",
        "r= model.fit_generator(training_set,epochs = 25, validation_data = test_set,verbose = 1, steps_per_epoch=X_train.shape[0] // batch_size)"
      ],
      "execution_count": 29,
      "outputs": [
        {
          "output_type": "stream",
          "text": [
            "WARNING:tensorflow:From <ipython-input-29-5fc76e926b44>:3: Model.fit_generator (from tensorflow.python.keras.engine.training) is deprecated and will be removed in a future version.\n",
            "Instructions for updating:\n",
            "Please use Model.fit, which supports generators.\n",
            "Epoch 1/25\n",
            "108/108 [==============================] - 45s 418ms/step - loss: 0.9844 - accuracy: 0.6457 - val_loss: 0.6139 - val_accuracy: 0.7688\n",
            "Epoch 2/25\n",
            "108/108 [==============================] - 45s 416ms/step - loss: 0.7312 - accuracy: 0.7431 - val_loss: 0.6692 - val_accuracy: 0.7711\n",
            "Epoch 3/25\n",
            "108/108 [==============================] - 46s 430ms/step - loss: 0.6457 - accuracy: 0.7656 - val_loss: 0.6977 - val_accuracy: 0.7526\n",
            "Epoch 4/25\n",
            "108/108 [==============================] - 45s 420ms/step - loss: 0.6278 - accuracy: 0.7752 - val_loss: 0.4855 - val_accuracy: 0.8301\n",
            "Epoch 5/25\n",
            "108/108 [==============================] - 45s 415ms/step - loss: 0.5857 - accuracy: 0.7968 - val_loss: 0.5585 - val_accuracy: 0.8046\n",
            "Epoch 6/25\n",
            "108/108 [==============================] - 45s 416ms/step - loss: 0.5200 - accuracy: 0.8155 - val_loss: 0.5378 - val_accuracy: 0.8231\n",
            "Epoch 7/25\n",
            "108/108 [==============================] - 45s 415ms/step - loss: 0.6294 - accuracy: 0.7916 - val_loss: 0.6200 - val_accuracy: 0.8046\n",
            "Epoch 8/25\n",
            "108/108 [==============================] - 45s 418ms/step - loss: 0.5386 - accuracy: 0.8135 - val_loss: 0.6406 - val_accuracy: 0.7954\n",
            "Epoch 9/25\n",
            "108/108 [==============================] - 45s 413ms/step - loss: 0.4993 - accuracy: 0.8182 - val_loss: 0.5776 - val_accuracy: 0.8162\n",
            "Epoch 10/25\n",
            "108/108 [==============================] - 45s 416ms/step - loss: 0.4822 - accuracy: 0.8380 - val_loss: 0.5818 - val_accuracy: 0.8104\n",
            "Epoch 11/25\n",
            "108/108 [==============================] - 44s 410ms/step - loss: 0.5462 - accuracy: 0.8129 - val_loss: 0.6059 - val_accuracy: 0.8104\n",
            "Epoch 12/25\n",
            "108/108 [==============================] - 44s 410ms/step - loss: 0.4626 - accuracy: 0.8395 - val_loss: 0.5267 - val_accuracy: 0.8289\n",
            "Epoch 13/25\n",
            "108/108 [==============================] - 44s 410ms/step - loss: 0.5298 - accuracy: 0.8310 - val_loss: 0.6496 - val_accuracy: 0.8208\n",
            "Epoch 14/25\n",
            "108/108 [==============================] - 44s 409ms/step - loss: 0.4551 - accuracy: 0.8453 - val_loss: 0.5893 - val_accuracy: 0.8173\n",
            "Epoch 15/25\n",
            "108/108 [==============================] - 44s 410ms/step - loss: 0.5308 - accuracy: 0.8217 - val_loss: 0.6561 - val_accuracy: 0.8046\n",
            "Epoch 16/25\n",
            "108/108 [==============================] - 44s 409ms/step - loss: 0.5700 - accuracy: 0.8225 - val_loss: 0.5568 - val_accuracy: 0.8277\n",
            "Epoch 17/25\n",
            "108/108 [==============================] - 44s 410ms/step - loss: 0.4617 - accuracy: 0.8327 - val_loss: 0.6985 - val_accuracy: 0.8035\n",
            "Epoch 18/25\n",
            "108/108 [==============================] - 43s 402ms/step - loss: 0.4782 - accuracy: 0.8386 - val_loss: 0.8930 - val_accuracy: 0.7792\n",
            "Epoch 19/25\n",
            "108/108 [==============================] - 43s 399ms/step - loss: 0.4634 - accuracy: 0.8494 - val_loss: 0.5986 - val_accuracy: 0.8243\n",
            "Epoch 20/25\n",
            "108/108 [==============================] - 43s 402ms/step - loss: 0.4470 - accuracy: 0.8412 - val_loss: 0.6531 - val_accuracy: 0.8173\n",
            "Epoch 21/25\n",
            "108/108 [==============================] - 43s 402ms/step - loss: 0.4665 - accuracy: 0.8415 - val_loss: 0.7412 - val_accuracy: 0.8116\n",
            "Epoch 22/25\n",
            "108/108 [==============================] - 43s 402ms/step - loss: 0.4666 - accuracy: 0.8418 - val_loss: 0.5788 - val_accuracy: 0.8289\n",
            "Epoch 23/25\n",
            "108/108 [==============================] - 43s 398ms/step - loss: 0.4089 - accuracy: 0.8596 - val_loss: 0.5728 - val_accuracy: 0.8254\n",
            "Epoch 24/25\n",
            "108/108 [==============================] - 43s 402ms/step - loss: 0.4656 - accuracy: 0.8476 - val_loss: 0.6479 - val_accuracy: 0.8231\n",
            "Epoch 25/25\n",
            "108/108 [==============================] - 43s 402ms/step - loss: 0.4507 - accuracy: 0.8508 - val_loss: 0.6259 - val_accuracy: 0.8162\n"
          ],
          "name": "stdout"
        }
      ]
    },
    {
      "cell_type": "code",
      "metadata": {
        "id": "b7E0y-IrXh6k",
        "colab_type": "code",
        "colab": {
          "base_uri": "https://localhost:8080/",
          "height": 374
        },
        "outputId": "1aa1bc4a-e6ef-4446-e221-5cbd986df102"
      },
      "source": [
        "# plot the loss\n",
        "plt.figure(figsize=(10,6))\n",
        "\n",
        "plt.subplot(1,2,1)\n",
        "plt.plot(r.history['loss'], label='train loss')\n",
        "plt.plot(r.history['val_loss'], label='val loss')\n",
        "plt.legend()\n",
        "plt.savefig('LossVal_loss')\n",
        "\n",
        "# plot the accuracy\n",
        "plt.subplot(1,2,2)\n",
        "plt.plot(r.history['accuracy'], label='train acc')\n",
        "plt.plot(r.history['val_accuracy'], label='val acc')\n",
        "plt.legend()\n",
        "plt.savefig('AccVal_acc')"
      ],
      "execution_count": 30,
      "outputs": [
        {
          "output_type": "display_data",
          "data": {
            "image/png": "[encoded data removed]",
            "text/plain": [
              "<Figure size 720x432 with 2 Axes>"
            ]
          },
          "metadata": {
            "tags": [],
            "needs_background": "light"
          }
        }
      ]
    },
    {
      "cell_type": "code",
      "metadata": {
        "id": "ZDWWX7VfignI",
        "colab_type": "code",
        "colab": {
          "base_uri": "https://localhost:8080/",
          "height": 34
        },
        "outputId": "89aedd01-831d-4229-d0f2-2ad28611269d"
      },
      "source": [
        "k=r.history['val_accuracy']\n",
        "np.array(k[-1])"
      ],
      "execution_count": 31,
      "outputs": [
        {
          "output_type": "execute_result",
          "data": {
            "text/plain": [
              "array(0.816185)"
            ]
          },
          "metadata": {
            "tags": []
          },
          "execution_count": 31
        }
      ]
    },
    {
      "cell_type": "code",
      "metadata": {
        "id": "wcs9aWsbXoEV",
        "colab_type": "code",
        "colab": {}
      },
      "source": [
        "# save it as a h5 file\n",
        "\n",
        "from tensorflow.keras.models import load_model\n",
        "model.save('Flowers1_model_vgg19.h5')"
      ],
      "execution_count": 32,
      "outputs": []
    },
    {
      "cell_type": "code",
      "metadata": {
        "id": "6DdBnzA0XoVJ",
        "colab_type": "code",
        "colab": {
          "base_uri": "https://localhost:8080/",
          "height": 34
        },
        "outputId": "f5952559-0929-4d8e-c0ef-b422e5ada150"
      },
      "source": [
        "predictions = model.predict(X_test)\n",
        "prediction_digits = np.argmax(predictions, axis=1)\n",
        "\n",
        "labels_pred = np.unique(prediction_digits, return_counts=True)\n",
        "labels_pred"
      ],
      "execution_count": 45,
      "outputs": [
        {
          "output_type": "execute_result",
          "data": {
            "text/plain": [
              "(array([0, 1, 2, 3, 4]), array([223, 245,  44, 220, 133]))"
            ]
          },
          "metadata": {
            "tags": []
          },
          "execution_count": 45
        }
      ]
    },
    {
      "cell_type": "code",
      "metadata": {
        "id": "4vF-0xc5W5BU",
        "colab_type": "code",
        "colab": {
          "base_uri": "https://localhost:8080/",
          "height": 34
        },
        "outputId": "cf11d17c-b9cd-49ee-97ba-ea4ae6ef2f6a"
      },
      "source": [
        "real_labels= np.argmax(y_test, axis=1)\n",
        "real_labels\n",
        "real_labels1 = np.unique(real_labels, return_counts=True)\n",
        "real_labels1"
      ],
      "execution_count": 43,
      "outputs": [
        {
          "output_type": "execute_result",
          "data": {
            "text/plain": [
              "(array([0, 1, 2, 3, 4]), array([141, 177, 154, 202, 191]))"
            ]
          },
          "metadata": {
            "tags": []
          },
          "execution_count": 43
        }
      ]
    },
    {
      "cell_type": "code",
      "metadata": {
        "id": "dCRMdNrbX-m6",
        "colab_type": "code",
        "colab": {
          "base_uri": "https://localhost:8080/",
          "height": 102
        },
        "outputId": "78daf380-dd6d-470c-9383-a689ed40eba2"
      },
      "source": [
        "from sklearn.metrics import confusion_matrix\n",
        "c_m = confusion_matrix(real_labels, prediction_digits)\n",
        "c_m"
      ],
      "execution_count": 44,
      "outputs": [
        {
          "output_type": "execute_result",
          "data": {
            "text/plain": [
              "array([[123,  12,   0,   4,   2],\n",
              "       [ 11, 154,   0,   4,   8],\n",
              "       [ 31,  27,  40,  55,   1],\n",
              "       [ 28,  15,   3, 154,   2],\n",
              "       [ 30,  37,   1,   3, 120]])"
            ]
          },
          "metadata": {
            "tags": []
          },
          "execution_count": 44
        }
      ]
    },
    {
      "cell_type": "code",
      "metadata": {
        "id": "bNCVWj1IbjLw",
        "colab_type": "code",
        "colab": {
          "base_uri": "https://localhost:8080/",
          "height": 391
        },
        "outputId": "38996643-fccd-43aa-874f-bc643beddce7"
      },
      "source": [
        "import seaborn as sns\n",
        "plt.figure(figsize = (6,6))\n",
        "sns.heatmap(c_m,cmap= \"Reds\", linecolor = 'black' , linewidth = 1 , annot = True, fmt='' , xticklabels = folders1 , yticklabels = folders1)"
      ],
      "execution_count": 67,
      "outputs": [
        {
          "output_type": "execute_result",
          "data": {
            "text/plain": [
              "<matplotlib.axes._subplots.AxesSubplot at 0x7f252f989eb8>"
            ]
          },
          "metadata": {
            "tags": []
          },
          "execution_count": 67
        },
        {
          "output_type": "display_data",
          "data": {
            "image/png": "[encoded data removed]",
            "text/plain": [
              "<Figure size 432x432 with 2 Axes>"
            ]
          },
          "metadata": {
            "tags": [],
            "needs_background": "light"
          }
        }
      ]
    },
    {
      "cell_type": "code",
      "metadata": {
        "id": "Pki0I5TkX1bG",
        "colab_type": "code",
        "colab": {}
      },
      "source": [
        "from tensorflow.keras.models import load_model\n",
        "from tensorflow.keras.preprocessing import image"
      ],
      "execution_count": null,
      "outputs": []
    },
    {
      "cell_type": "code",
      "metadata": {
        "id": "0ozZ3kElX1gy",
        "colab_type": "code",
        "colab": {}
      },
      "source": [
        "model=load_model('Flowers1_model_vgg19.h5')"
      ],
      "execution_count": 46,
      "outputs": []
    },
    {
      "cell_type": "code",
      "metadata": {
        "id": "prh52jzZX-iC",
        "colab_type": "code",
        "colab": {}
      },
      "source": [
        "img=image.load_img('/content/drive/My Drive/flower-tulip-vector-21117948.jpg',target_size=(224,224))\n"
      ],
      "execution_count": 47,
      "outputs": []
    },
    {
      "cell_type": "code",
      "metadata": {
        "id": "Kenl5EqKwtcN",
        "colab_type": "code",
        "colab": {
          "base_uri": "https://localhost:8080/",
          "height": 241
        },
        "outputId": "b3aa5a07-224a-4acb-e747-5f8e87730443"
      },
      "source": [
        "img"
      ],
      "execution_count": 48,
      "outputs": [
        {
          "output_type": "execute_result",
          "data": {
            "image/png": "[encoded data removed]",
            "text/plain": [
              "<PIL.Image.Image image mode=RGB size=224x224 at 0x7F27AD7A4C18>"
            ]
          },
          "metadata": {
            "tags": []
          },
          "execution_count": 48
        }
      ]
    },
    {
      "cell_type": "code",
      "metadata": {
        "id": "HZUVTc7DX-la",
        "colab_type": "code",
        "colab": {}
      },
      "source": [
        "y=image.img_to_array(img)\n",
        "y=np.expand_dims(y,axis=0)\n",
        "imgy=preprocess_input(y)\n",
        "imgy=imgy/255"
      ],
      "execution_count": 57,
      "outputs": []
    },
    {
      "cell_type": "code",
      "metadata": {
        "id": "gSVtt_PTY3IY",
        "colab_type": "code",
        "colab": {
          "base_uri": "https://localhost:8080/",
          "height": 51
        },
        "outputId": "09ee66de-a84a-41ad-aa34-f005e37bf13e"
      },
      "source": [
        "preds= model.predict(imgy)\n",
        "preds\n",
        "\n"
      ],
      "execution_count": 58,
      "outputs": [
        {
          "output_type": "execute_result",
          "data": {
            "text/plain": [
              "array([[3.3126490e-03, 6.7297015e-03, 9.3831941e-03, 9.8037452e-01,\n",
              "        1.9985356e-04]], dtype=float32)"
            ]
          },
          "metadata": {
            "tags": []
          },
          "execution_count": 58
        }
      ]
    },
    {
      "cell_type": "code",
      "metadata": {
        "id": "MuR2FedtY3Qv",
        "colab_type": "code",
        "colab": {
          "base_uri": "https://localhost:8080/",
          "height": 34
        },
        "outputId": "ea5ef88b-57b4-4fc9-cf40-86af3aa79478"
      },
      "source": [
        "a=np.argmax(preds, axis=1)\n",
        "a"
      ],
      "execution_count": 59,
      "outputs": [
        {
          "output_type": "execute_result",
          "data": {
            "text/plain": [
              "array([3])"
            ]
          },
          "metadata": {
            "tags": []
          },
          "execution_count": 59
        }
      ]
    },
    {
      "cell_type": "code",
      "metadata": {
        "id": "uqOVAwEtY9DX",
        "colab_type": "code",
        "colab": {
          "base_uri": "https://localhost:8080/",
          "height": 34
        },
        "outputId": "d045b921-8368-48c0-c41e-13166da10423"
      },
      "source": [
        "if(a==0):\n",
        "    print(\"Sunflower\")\n",
        "elif(a==1):\n",
        "    print(\"Daisy\")\n",
        "elif(a==2):\n",
        "    print(\"Rose\")\n",
        "elif(a==3):\n",
        "    print(\"Tulip\")\n",
        "else:\n",
        "    print(\"Dandelion\")"
      ],
      "execution_count": 60,
      "outputs": [
        {
          "output_type": "stream",
          "text": [
            "Tulip\n"
          ],
          "name": "stdout"
        }
      ]
    },
    {
      "cell_type": "code",
      "metadata": {
        "id": "kBwk5BNPZazD",
        "colab_type": "code",
        "colab": {}
      },
      "source": [
        ""
      ],
      "execution_count": null,
      "outputs": []
    }
  ]
}